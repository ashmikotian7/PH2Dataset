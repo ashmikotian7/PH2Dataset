{
 "cells": [
  {
   "cell_type": "code",
   "execution_count": null,
   "id": "fcb25e12",
   "metadata": {},
   "outputs": [
    {
     "name": "stderr",
     "output_type": "stream",
     "text": [
      "Processing PH2 dataset:   0%|          | 0/200 [00:00<?, ?it/s]"
     ]
    },
    {
     "name": "stderr",
     "output_type": "stream",
     "text": [
      "Processing PH2 dataset: 100%|██████████| 200/200 [00:19<00:00, 10.22it/s]\n"
     ]
    }
   ],
   "source": [
    "import os\n",
    "from PIL import Image\n",
    "from torchvision import transforms\n",
    "from tqdm import tqdm\n",
    "\n",
    "# Set paths\n",
    "input_root = r'E:\\skin dataset\\PH2Dataset\\PH2 Dataset images'\n",
    "output_root = r'E:\\skin dataset\\resized'\n",
    "os.makedirs(output_root, exist_ok=True)\n",
    "\n",
    "# Define transform for dermoscopic images\n",
    "image_transform = transforms.Compose([\n",
    "    transforms.Resize((224, 224)),\n",
    "    transforms.ToTensor(),\n",
    "    transforms.Normalize([0.5], [0.5])  # For grayscale; update for RGB if needed\n",
    "])\n",
    "\n",
    "# Define transform for masks (no normalization)\n",
    "mask_transform = transforms.Compose([\n",
    "    transforms.Resize((224, 224)),\n",
    "    transforms.ToTensor()  # Just convert to tensor [0, 1]\n",
    "])\n",
    "\n",
    "def process_and_save(image_path, save_path, transform):\n",
    "    if not os.path.exists(image_path): return\n",
    "    img = Image.open(image_path).convert(\"RGB\")\n",
    "    img = transform(img)\n",
    "    img_pil = transforms.ToPILImage()(img)\n",
    "    img_pil.save(save_path)\n",
    "\n",
    "# LOOP starts here\n",
    "for lesion_id in tqdm(os.listdir(input_root), desc=\"Processing PH2 dataset\"):\n",
    "    lesion_folder = os.path.join(input_root, lesion_id)\n",
    "    if not os.path.isdir(lesion_folder):\n",
    "        continue\n",
    "\n",
    "    img_path = os.path.join(lesion_folder, f\"{lesion_id}_Dermoscopic_Image\", f\"{lesion_id}.bmp\")\n",
    "    lesion_mask_path = os.path.join(lesion_folder, f\"{lesion_id}_lesion\", f\"{lesion_id}_lesion.bmp\")\n",
    "\n",
    "    # Get ROI mask if exists\n",
    "    roi_mask_path = None\n",
    "    roi_dir = os.path.join(lesion_folder, f\"{lesion_id}_roi\")\n",
    "    if os.path.exists(roi_dir):\n",
    "        roi_mask_path = next((os.path.join(roi_dir, f) for f in os.listdir(roi_dir) if f.endswith(\".bmp\")), None)\n",
    "\n",
    "    # Output paths\n",
    "    out_img = os.path.join(output_root, f\"{lesion_id}_image.png\")\n",
    "    out_lesion = os.path.join(output_root, f\"{lesion_id}_lesion.png\")\n",
    "    out_roi = os.path.join(output_root, f\"{lesion_id}_roi.png\")\n",
    "\n",
    "    # Process and save\n",
    "    process_and_save(img_path, out_img, image_transform)\n",
    "    process_and_save(lesion_mask_path, out_lesion, mask_transform)\n",
    "    if roi_mask_path:\n",
    "        process_and_save(roi_mask_path, out_roi, mask_transform)\n"
   ]
  },
  {
   "cell_type": "code",
   "execution_count": 4,
   "id": "89f76921",
   "metadata": {},
   "outputs": [
    {
     "name": "stderr",
     "output_type": "stream",
     "text": [
      "Augmenting PH2 dataset: 100%|██████████| 200/200 [00:14<00:00, 13.66it/s]\n"
     ]
    }
   ],
   "source": [
    "import os\n",
    "import cv2\n",
    "import numpy as np\n",
    "from PIL import Image\n",
    "from tqdm import tqdm\n",
    "import albumentations as A\n",
    "from albumentations.pytorch import ToTensorV2\n",
    "\n",
    "# Paths\n",
    "input_root = r'E:\\skin dataset\\PH2Dataset\\PH2 Dataset images'\n",
    "output_root = r'E:\\skin dataset\\augmented'\n",
    "os.makedirs(output_root, exist_ok=True)\n",
    "\n",
    "# Albumentations Transform (applied to both image & mask)\n",
    "transform = A.Compose([\n",
    "    A.Resize(224, 224),\n",
    "    A.HorizontalFlip(p=0.5),\n",
    "    A.VerticalFlip(p=0.5),\n",
    "    A.Rotate(limit=30, p=0.5),\n",
    "    A.RandomBrightnessContrast(p=0.5),\n",
    "], additional_targets={'mask2': 'mask', 'mask3': 'mask'})\n",
    "\n",
    "# Save helper\n",
    "def save_image(arr, path):\n",
    "    img = Image.fromarray(arr)\n",
    "    img.save(path)\n",
    "\n",
    "# Main loop\n",
    "for lesion_id in tqdm(os.listdir(input_root), desc=\"Augmenting PH2 dataset\"):\n",
    "    lesion_folder = os.path.join(input_root, lesion_id)\n",
    "    if not os.path.isdir(lesion_folder):\n",
    "        continue\n",
    "\n",
    "    # Paths\n",
    "    img_path = os.path.join(lesion_folder, f\"{lesion_id}_Dermoscopic_Image\", f\"{lesion_id}.bmp\")\n",
    "    lesion_mask_path = os.path.join(lesion_folder, f\"{lesion_id}_lesion\", f\"{lesion_id}_lesion.bmp\")\n",
    "    roi_mask_path = None\n",
    "    roi_dir = os.path.join(lesion_folder, f\"{lesion_id}_roi\")\n",
    "    if os.path.exists(roi_dir):\n",
    "        roi_mask_path = next((os.path.join(roi_dir, f) for f in os.listdir(roi_dir) if f.endswith(\".bmp\")), None)\n",
    "\n",
    "    # Load images (OpenCV uses BGR)\n",
    "    img = cv2.imread(img_path)\n",
    "    lesion_mask = cv2.imread(lesion_mask_path, cv2.IMREAD_GRAYSCALE)\n",
    "    roi_mask = cv2.imread(roi_mask_path, cv2.IMREAD_GRAYSCALE) if roi_mask_path else None\n",
    "\n",
    "    if img is None or lesion_mask is None:\n",
    "        continue\n",
    "\n",
    "    # Apply augmentations\n",
    "    augmented = transform(image=img, mask=lesion_mask, mask2=roi_mask if roi_mask is not None else lesion_mask, mask3=lesion_mask)\n",
    "    aug_img = cv2.cvtColor(augmented['image'], cv2.COLOR_BGR2RGB)\n",
    "    aug_lesion = augmented['mask']\n",
    "    aug_roi = augmented['mask2'] if roi_mask is not None else None\n",
    "\n",
    "    # Save\n",
    "    save_image(aug_img, os.path.join(output_root, f\"{lesion_id}_image.png\"))\n",
    "    save_image(aug_lesion, os.path.join(output_root, f\"{lesion_id}_lesion.png\"))\n",
    "    if aug_roi is not None:\n",
    "        save_image(aug_roi, os.path.join(output_root, f\"{lesion_id}_roi.png\"))"
   ]
  },
  {
   "cell_type": "code",
   "execution_count": null,
   "id": "21507326",
   "metadata": {},
   "outputs": [],
   "source": []
  }
 ],
 "metadata": {
  "kernelspec": {
   "display_name": "Python 3",
   "language": "python",
   "name": "python3"
  },
  "language_info": {
   "codemirror_mode": {
    "name": "ipython",
    "version": 3
   },
   "file_extension": ".py",
   "mimetype": "text/x-python",
   "name": "python",
   "nbconvert_exporter": "python",
   "pygments_lexer": "ipython3",
   "version": "3.13.1"
  }
 },
 "nbformat": 4,
 "nbformat_minor": 5
}
